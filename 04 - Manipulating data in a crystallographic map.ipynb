{
 "cells": [
  {
   "cell_type": "markdown",
   "metadata": {},
   "source": [
    "# Introduction\n",
    "\n",
    "In this tutorial we demonstrate the use of the `CrystalMap` class to store and\n",
    "manipulate orientations, crystal phases and other properties associated with\n",
    "every spatial coordinate in a 1D or 2D space.\n",
    "\n",
    "The `CrystalMap` class is inspired by MTEX' `EBSD` class. It is developed to\n",
    "interface more easily with the scientific Python stack.\n",
    "\n",
    "Orientations and other properties acquired from a super-duplex stainless steel\n",
    "EBSD data set with two phases, austenite and ferrite, are used as example data.\n",
    "The data is available here: http://folk.ntnu.no/hakonwii/files/orix-demos/,\n",
    "courtesy of Prof. Jarle Hjelen (Norwegian University of Science and Technology,\n",
    "Norway).\n",
    "\n",
    "This functionaility has been checked to run in orix-0.4.0 (August 2020). Bugs\n",
    "are always possible, do not trust the code blindly, and if you experience any\n",
    "issues please report them here: https://github.com/pyxem/orix-demos/issues.\n",
    "\n",
    "# Contents\n",
    "\n",
    "1. <a href='#obtain-crystalmap'>Import/create and save a CrystalMap</a>\n",
    "2. <a href='#inspect-phases'>Create and manipulate phases</a>\n",
    "3. <a href='#inspect-data'>Inspect orientation data</a>\n",
    "4. <a href='#inspect-properties'>Inspect, add and delete map properties</a>\n",
    "5. <a href='#select-data'>Select and manipulate data based upon criteria</a>\n",
    "6. <a href='#plot-maps'>Plot maps</a>\n",
    "\n",
    "Import orix classes and various dependencies"
   ]
  },
  {
   "cell_type": "code",
   "execution_count": 1,
   "metadata": {},
   "outputs": [],
   "source": [
    "%matplotlib qt5\n",
    "\n",
    "from diffpy.structure import Atom, Lattice, Structure\n",
    "import matplotlib.pyplot as plt\n",
    "import numpy as np\n",
    "\n",
    "from orix.io import load, save\n",
    "from orix.quaternion.rotation import Rotation\n",
    "from orix.quaternion.orientation import Orientation\n",
    "from orix.crystal_map import CrystalMap, PhaseList, Phase\n",
    "from orix import plot"
   ]
  },
  {
   "cell_type": "markdown",
   "metadata": {},
   "source": [
    "# <a id='obtain-crystalmap'></a> 1. Import/create and save a CrystalMap object\n",
    "\n",
    "A `CrystalMap` object can be obtained either by reading an orientation data set\n",
    "stored in a format supported by `orix` using the `load` function, or by passing\n",
    "the necessary arrays to the `CrystalMap.__init__()` method. Two formats are\n",
    "supported, in addition to `orix`'s own HDF5 format: Data in the ang format\n",
    "produced by the softwares EDAX TSL OIM Data Collection v7, NanoMegas Astar\n",
    "Index, and EMsoft v4/v5 via the `EMdpmerge` program, and data in EMsoft v4/v5\n",
    "HDF5 files produced by the `EMEBSDDI` program.\n",
    "\n",
    "Let's get a crystal map from an .ang file produced by EMsoft"
   ]
  },
  {
   "cell_type": "code",
   "execution_count": 2,
   "metadata": {},
   "outputs": [
    {
     "data": {
      "text/plain": [
       "Phase  Orientations       Name  Space group  Point group  Proper point group       Color\n",
       "    1  5657 (48.4%)  austenite         None          432                 432    tab:blue\n",
       "    2  6043 (51.6%)    ferrite         None          432                 432  tab:orange\n",
       "Properties: iq, dp\n",
       "Scan unit: um"
      ]
     },
     "execution_count": 2,
     "metadata": {},
     "output_type": "execute_result"
    }
   ],
   "source": [
    "datadir = '/home/hakon/phd/data/jarle_emsoft/sdss/em/'\n",
    "fname = 'sdss_ferrite_austenite.ang'\n",
    "\n",
    "cm = load(datadir + fname)\n",
    "\n",
    "# Let's print a nice, informative representation of the data\n",
    "cm"
   ]
  },
  {
   "cell_type": "markdown",
   "metadata": {},
   "source": [
    "Note that the name and symmetry of the phases present in the data were obtained from the .ang file header. The indexing properties returned by EMsoft in their .ang files are the pattern image quality (iq) (according to Niels Krieger Lassen's method), and the highest normalized dot product (dp) between the experimental and best matching simulated pattern.\n",
    "\n",
    "We can obtain the same `CrystalMap` object by reading each array from the .ang files ourselves and passing this to `CrystalMap.__init__()`"
   ]
  },
  {
   "cell_type": "code",
   "execution_count": null,
   "metadata": {},
   "outputs": [],
   "source": [
    "# Read each column from the file\n",
    "euler1, euler2, euler3, x, y, iq, dp, phase_id = np.loadtxt(\n",
    "    datadir + fname, unpack=True)\n",
    "\n",
    "# Create a Rotation object from Euler angles\n",
    "euler_angles = np.column_stack((euler1, euler2, euler3))\n",
    "rotations = Rotation.from_euler(euler_angles)\n",
    "\n",
    "# Create a property dictionary\n",
    "properties = {\"iq\": iq, \"dp\": dp}\n",
    "\n",
    "# Create unit cells of the phases\n",
    "structures = [\n",
    "    Structure(\n",
    "        title=\"austenite\",\n",
    "        atoms=[Atom(\"fe\", [0] * 3)],\n",
    "        lattice=Lattice(0.360, 0.360, 0.360, 90, 90, 90)\n",
    "    ),\n",
    "    Structure(\n",
    "        title=\"ferrite\",\n",
    "        atoms=[Atom(\"fe\", [0] * 3)],\n",
    "        lattice=Lattice(0.287, 0.287, 0.287, 90, 90, 90)\n",
    "    ),\n",
    "]\n",
    "phase_list = PhaseList(\n",
    "    names=[\"austenite\", \"ferrite\"],\n",
    "    symmetries=[\"432\", \"432\"],\n",
    "    structures=structures,\n",
    ")\n",
    "\n",
    "# Create a CrystalMap object\n",
    "cm2 = CrystalMap(\n",
    "    rotations=rotations,\n",
    "    phase_id=phase_id,\n",
    "    x=x,\n",
    "    y=y,\n",
    "    phase_list=phase_list,\n",
    "    prop=properties,\n",
    ")\n",
    "cm2.scan_unit = \"um\"\n",
    "\n",
    "cm2"
   ]
  },
  {
   "cell_type": "markdown",
   "metadata": {},
   "source": [
    "The only supported format to write a `CrystalMap` object to is `orix`' own\n",
    "HDF5 format"
   ]
  },
  {
   "cell_type": "code",
   "execution_count": null,
   "metadata": {},
   "outputs": [],
   "source": [
    "save(\n",
    "    filename=datadir + \"sdss_ferrite_austenite2.h5\",\n",
    "    object2write=cm,\n",
    "    overwrite=False,  # Default\n",
    ")"
   ]
  },
  {
   "cell_type": "markdown",
   "metadata": {},
   "source": [
    "Read the file contents back into a `CrystalMap` object using `orix`' `load`\n",
    "function.\n",
    "\n",
    "All contents in this file can be inspected using any HDF5 viewer and read back\n",
    "into Python using the `h5py` library (which we use). "
   ]
  },
  {
   "cell_type": "markdown",
   "metadata": {},
   "source": [
    "# <a id='inspect-phases'></a> 2. Inspect and manipulate phases\n",
    "\n",
    "The phases are stored in a `PhaseList` object in the `CrystalMap.phases` attribute"
   ]
  },
  {
   "cell_type": "code",
   "execution_count": null,
   "metadata": {},
   "outputs": [],
   "source": [
    "cm.phases"
   ]
  },
  {
   "cell_type": "markdown",
   "metadata": {},
   "source": [
    "This list can be indexed by phase ID or name"
   ]
  },
  {
   "cell_type": "code",
   "execution_count": null,
   "metadata": {},
   "outputs": [],
   "source": [
    "cm.phases[1]"
   ]
  },
  {
   "cell_type": "code",
   "execution_count": null,
   "metadata": {},
   "outputs": [],
   "source": [
    "cm.phases[\"austenite\"]"
   ]
  },
  {
   "cell_type": "code",
   "execution_count": null,
   "metadata": {},
   "outputs": [],
   "source": [
    "cm.phases[1:]"
   ]
  },
  {
   "cell_type": "code",
   "execution_count": null,
   "metadata": {},
   "outputs": [],
   "source": [
    "cm.phases[\"austenite\", \"ferrite\"]"
   ]
  },
  {
   "cell_type": "markdown",
   "metadata": {},
   "source": [
    "When asking for a single phase, either by an integer or a single string, a `Phase` object was returned. In the other cases, a `PhaseList` object was returned"
   ]
  },
  {
   "cell_type": "code",
   "execution_count": null,
   "metadata": {},
   "outputs": [],
   "source": [
    "print(\n",
    "    type(cm.phases[1]),\n",
    "    type(cm.phases[1:])\n",
    ")"
   ]
  },
  {
   "cell_type": "markdown",
   "metadata": {},
   "source": [
    "The phase name, symmetry, color and structure can be accessed for the full phase list or a single phase"
   ]
  },
  {
   "cell_type": "code",
   "execution_count": null,
   "metadata": {},
   "outputs": [],
   "source": [
    "print(cm.phases.names)\n",
    "print([symmetry.name for symmetry in cm.phases.symmetries])\n",
    "print(cm.phases.colors)\n",
    "print(cm.phases.structures)"
   ]
  },
  {
   "cell_type": "markdown",
   "metadata": {},
   "source": [
    "Note that the structures' representations are empty lists since no atoms have been added to them yet."
   ]
  },
  {
   "cell_type": "code",
   "execution_count": null,
   "metadata": {},
   "outputs": [],
   "source": [
    "cm.phases[\"austenite\"]\n",
    "print(cm.phases[\"austenite\"].name)\n",
    "print(cm.phases[\"austenite\"].symmetry.name)\n",
    "print(cm.phases[\"austenite\"].color)\n",
    "print(cm.phases[\"austenite\"].structure)"
   ]
  },
  {
   "cell_type": "markdown",
   "metadata": {},
   "source": [
    "These attributes (not the phase ID) can be set *per phase*"
   ]
  },
  {
   "cell_type": "code",
   "execution_count": null,
   "metadata": {},
   "outputs": [],
   "source": [
    "cm.phases[\"austenite\"].name = \"Austenite\"\n",
    "\n",
    "cm.phases[\"Austenite\"].structure = Structure(\n",
    "    lattice=Lattice(0.36, 0.36, 0.36, 90, 90, 90))\n",
    "print(cm.phases[\"Austenite\"].structure)\n",
    "\n",
    "cm.phases[\"Austenite\"].color = \"lime\"  # Yields RGB tuple (0, 1, 0)\n",
    "print(cm.phases[\"Austenite\"].color_rgb)\n",
    "\n",
    "cm.phases"
   ]
  },
  {
   "cell_type": "markdown",
   "metadata": {},
   "source": [
    "Valid color strings can be found here: https://matplotlib.org/3.1.0/tutorials/colors/colors.html\n",
    "\n",
    "Valid point group names to use when setting the phase symmetry are"
   ]
  },
  {
   "cell_type": "code",
   "execution_count": null,
   "metadata": {},
   "outputs": [],
   "source": [
    "from orix.quaternion.symmetry import _groups\n",
    "\n",
    "[point_group.name for point_group in _groups]"
   ]
  },
  {
   "cell_type": "code",
   "execution_count": null,
   "metadata": {},
   "outputs": [],
   "source": [
    "cm.phases[\"Austenite\"].symmetry = \"m-3m\"\n",
    "\n",
    "cm.phases"
   ]
  },
  {
   "cell_type": "markdown",
   "metadata": {},
   "source": [
    "Let's revert to the correct point group (and the name, for convenience)"
   ]
  },
  {
   "cell_type": "code",
   "execution_count": null,
   "metadata": {},
   "outputs": [],
   "source": [
    "cm.phases[\"Austenite\"].name = \"austenite\"\n",
    "cm.phases[\"austenite\"].symmetry = \"432\"\n",
    "\n",
    "cm.phases"
   ]
  },
  {
   "cell_type": "markdown",
   "metadata": {},
   "source": [
    "We can add a phase by giving its name and point group symmetry"
   ]
  },
  {
   "cell_type": "code",
   "execution_count": null,
   "metadata": {},
   "outputs": [],
   "source": [
    "cm.phases[\"sigma\"] = \"4/mmm\"\n",
    "\n",
    "cm.phases"
   ]
  },
  {
   "cell_type": "markdown",
   "metadata": {},
   "source": [
    "When adding a phase to the phase list like this, the phases' structure contains no atoms and the default lattice parameters are used"
   ]
  },
  {
   "cell_type": "code",
   "execution_count": null,
   "metadata": {},
   "outputs": [],
   "source": [
    "cm.phases[\"sigma\"].structure.lattice.abcABG()"
   ]
  },
  {
   "cell_type": "markdown",
   "metadata": {},
   "source": [
    "So let's set this"
   ]
  },
  {
   "cell_type": "code",
   "execution_count": null,
   "metadata": {},
   "outputs": [],
   "source": [
    "cm.phases[\"sigma\"].structure.lattice = Lattice(0.880, 0.880, 0.880, 90, 90, 90)\n",
    "print(cm.phases[\"sigma\"].structure.lattice)"
   ]
  },
  {
   "cell_type": "markdown",
   "metadata": {},
   "source": [
    "If some data points are considered as not indexed, a \"not_indexed\" phase can be added to the phase list to keep track of these points"
   ]
  },
  {
   "cell_type": "code",
   "execution_count": null,
   "metadata": {},
   "outputs": [],
   "source": [
    "cm.phases.add_not_indexed()\n",
    "\n",
    "cm.phases"
   ]
  },
  {
   "cell_type": "markdown",
   "metadata": {},
   "source": [
    "No points in this data set are considered not indexed. A phase list with only the phases in the data, is stored in the `CrystalMap.phases_in_data` attribute"
   ]
  },
  {
   "cell_type": "code",
   "execution_count": null,
   "metadata": {},
   "outputs": [],
   "source": [
    "cm.phases_in_data"
   ]
  },
  {
   "cell_type": "markdown",
   "metadata": {},
   "source": [
    "We can of course remove a phase from the phase list, either by its name or phase ID"
   ]
  },
  {
   "cell_type": "code",
   "execution_count": null,
   "metadata": {},
   "outputs": [],
   "source": [
    "del cm.phases[\"sigma\"]\n",
    "del cm.phases[-1]\n",
    "\n",
    "cm.phases"
   ]
  },
  {
   "cell_type": "markdown",
   "metadata": {},
   "source": [
    "We can create a phase list by calling `PhaseList.__init__()`"
   ]
  },
  {
   "cell_type": "code",
   "execution_count": null,
   "metadata": {},
   "outputs": [],
   "source": [
    "PhaseList(\n",
    "    names=['al', 'cu'],\n",
    "    symmetries=['m-3m', 'm3m'],  # Note that m3m = m-3m\n",
    "    colors=['lime', 'xkcd:violet'],\n",
    "    ids=[0, 1],\n",
    "    structures=[\n",
    "        Structure(\n",
    "            atoms=[Atom(\"al\", [0] * 3)],\n",
    "            lattice=Lattice(0.405, 0.405, 0.405, 90, 90, 90)\n",
    "        ),\n",
    "        Structure(\n",
    "            atoms=[Atom(\"cu\", [0] * 3)],\n",
    "            lattice=Lattice(0.361, 0.361, 0.361, 90, 90, 90)\n",
    "        )\n",
    "    ]\n",
    ")"
   ]
  },
  {
   "cell_type": "markdown",
   "metadata": {},
   "source": [
    "or by creating `Phase` objects and passing these to the first argument in `PhaseList.__init__()` as a list (or single `Phase` objects)"
   ]
  },
  {
   "cell_type": "code",
   "execution_count": null,
   "metadata": {},
   "outputs": [],
   "source": [
    "al = Phase(name='al', symmetry='m-3m', color=\"C0\")\n",
    "cu = Phase(\n",
    "    color=\"C1\",\n",
    "    structure=Structure(\n",
    "        title=\"cu\",\n",
    "        lattice=Lattice(0.361, 0.361, 0.361, 90, 90, 90)\n",
    "    )\n",
    ")\n",
    "\n",
    "PhaseList([al, cu])"
   ]
  },
  {
   "cell_type": "markdown",
   "metadata": {},
   "source": [
    "Note that the Cu phase name was retrieved from the `Structure` object.\n",
    "\n",
    "If we want a shallow copy of the phase list"
   ]
  },
  {
   "cell_type": "code",
   "execution_count": null,
   "metadata": {},
   "outputs": [],
   "source": [
    "pl = cm.phases\n",
    "pl[\"ferrite\"].color = \"red\"\n",
    "\n",
    "cm.phases"
   ]
  },
  {
   "cell_type": "markdown",
   "metadata": {},
   "source": [
    "If we want a deep copy of the phase list"
   ]
  },
  {
   "cell_type": "code",
   "execution_count": null,
   "metadata": {},
   "outputs": [],
   "source": [
    "pl = cm.phases.deepcopy()\n",
    "pl[\"chi\"] = \"-43m\"\n",
    "print(pl, \"\\n\")\n",
    "\n",
    "print(cm.phases)"
   ]
  },
  {
   "cell_type": "markdown",
   "metadata": {},
   "source": [
    "# <a id='inspect-data'></a> 3. Inspect orientation data\n",
    "\n",
    "Orientations are stored as rotations in a `Rotation` object"
   ]
  },
  {
   "cell_type": "code",
   "execution_count": null,
   "metadata": {},
   "outputs": [],
   "source": [
    "cm.rotations"
   ]
  },
  {
   "cell_type": "markdown",
   "metadata": {},
   "source": [
    "Orientations *per phase* can be obtained by applying the phase symmetry"
   ]
  },
  {
   "cell_type": "code",
   "execution_count": null,
   "metadata": {},
   "outputs": [],
   "source": [
    "o_austenite = cm[\"austenite\"].orientations\n",
    "\n",
    "o_austenite"
   ]
  },
  {
   "cell_type": "markdown",
   "metadata": {},
   "source": [
    "The above is equivalent to"
   ]
  },
  {
   "cell_type": "code",
   "execution_count": null,
   "metadata": {},
   "outputs": [],
   "source": [
    "Orientation(cm[\"austenite\"].rotations).set_symmetry(\n",
    "    cm[\"austenite\"].phases[1].symmetry)"
   ]
  },
  {
   "cell_type": "markdown",
   "metadata": {},
   "source": [
    "Orientation angles and axes are readily available"
   ]
  },
  {
   "cell_type": "code",
   "execution_count": null,
   "metadata": {},
   "outputs": [],
   "source": [
    "o_austenite.angle"
   ]
  },
  {
   "cell_type": "code",
   "execution_count": null,
   "metadata": {},
   "outputs": [],
   "source": [
    "# Obtain as a numpy.ndarray\n",
    "o_austenite.angle.data"
   ]
  },
  {
   "cell_type": "code",
   "execution_count": null,
   "metadata": {},
   "outputs": [],
   "source": [
    "o_austenite.axis.data"
   ]
  },
  {
   "cell_type": "markdown",
   "metadata": {},
   "source": [
    "# <a id='inspect-properties'></a> 4. Inspect, add and delete map properties\n",
    "\n",
    "Map properties are stored in the `CrystalMap.prop` attribute dictionary"
   ]
  },
  {
   "cell_type": "code",
   "execution_count": null,
   "metadata": {},
   "outputs": [],
   "source": [
    "cm.prop"
   ]
  },
  {
   "cell_type": "markdown",
   "metadata": {},
   "source": [
    "All properties in this dictionary are also available directly from the `CrystalMap` as attributes"
   ]
  },
  {
   "cell_type": "code",
   "execution_count": null,
   "metadata": {},
   "outputs": [],
   "source": [
    "cm.iq"
   ]
  },
  {
   "cell_type": "code",
   "execution_count": null,
   "metadata": {},
   "outputs": [],
   "source": [
    "cm.dp"
   ]
  },
  {
   "cell_type": "markdown",
   "metadata": {},
   "source": [
    "We can add a map property by specifying its name and an initial value in each map point"
   ]
  },
  {
   "cell_type": "code",
   "execution_count": null,
   "metadata": {},
   "outputs": [],
   "source": [
    "cm.prop[\"grain_boundary\"] = 0\n",
    "\n",
    "cm.grain_boundary"
   ]
  },
  {
   "cell_type": "code",
   "execution_count": null,
   "metadata": {},
   "outputs": [],
   "source": [
    "cm.prop[\"grain_boundary2\"] = np.arange(cm.size, dtype=int)\n",
    "\n",
    "cm.grain_boundary2"
   ]
  },
  {
   "cell_type": "markdown",
   "metadata": {},
   "source": [
    "We can also delete a property from the `prop` dictionary"
   ]
  },
  {
   "cell_type": "code",
   "execution_count": null,
   "metadata": {},
   "outputs": [],
   "source": [
    "del cm.prop[\"grain_boundary2\"]\n",
    "\n",
    "cm.prop"
   ]
  },
  {
   "cell_type": "markdown",
   "metadata": {},
   "source": [
    "# <a id='select-data'></a> 5. Select and manipulate data based upon criteria\n",
    "\n",
    "We can select data in a crystal map in three ways:\n",
    "1. by phase name or \"indexed\"/\"not_indexed\"\n",
    "2. by a slice\n",
    "3. by a boolean array\n",
    "\n",
    "Getting all data belonging to one phase"
   ]
  },
  {
   "cell_type": "code",
   "execution_count": null,
   "metadata": {},
   "outputs": [],
   "source": [
    "cm[\"austenite\"]"
   ]
  },
  {
   "cell_type": "markdown",
   "metadata": {},
   "source": [
    "or two phases"
   ]
  },
  {
   "cell_type": "code",
   "execution_count": null,
   "metadata": {},
   "outputs": [],
   "source": [
    "cm[\"austenite\", \"ferrite\"]"
   ]
  },
  {
   "cell_type": "markdown",
   "metadata": {},
   "source": [
    "or all indexed points"
   ]
  },
  {
   "cell_type": "code",
   "execution_count": null,
   "metadata": {},
   "outputs": [],
   "source": [
    "cm[\"indexed\"]"
   ]
  },
  {
   "cell_type": "markdown",
   "metadata": {},
   "source": [
    "or all non-indexed points"
   ]
  },
  {
   "cell_type": "code",
   "execution_count": null,
   "metadata": {},
   "outputs": [],
   "source": [
    "cm[\"not_indexed\"]"
   ]
  },
  {
   "cell_type": "markdown",
   "metadata": {},
   "source": [
    "When slicing a crystal map, it is important to know the data size and shape"
   ]
  },
  {
   "cell_type": "code",
   "execution_count": null,
   "metadata": {},
   "outputs": [],
   "source": [
    "cm.size"
   ]
  },
  {
   "cell_type": "code",
   "execution_count": null,
   "metadata": {},
   "outputs": [],
   "source": [
    "cm.shape"
   ]
  },
  {
   "cell_type": "markdown",
   "metadata": {},
   "source": [
    "So, to get the data within a rectangle"
   ]
  },
  {
   "cell_type": "code",
   "execution_count": null,
   "metadata": {},
   "outputs": [],
   "source": [
    "cm[20:50, 40:90]"
   ]
  },
  {
   "cell_type": "markdown",
   "metadata": {},
   "source": [
    "The most powerful way to select data is by requiring a certain criteria"
   ]
  },
  {
   "cell_type": "code",
   "execution_count": null,
   "metadata": {},
   "outputs": [],
   "source": [
    "dp_mean = cm.dp.mean()\n",
    "print(dp_mean)\n",
    "\n",
    "cm_high_dp = cm[cm.dp > dp_mean]\n",
    "print(cm_high_dp.dp.min())"
   ]
  },
  {
   "cell_type": "markdown",
   "metadata": {},
   "source": [
    "Note that when selecting a subset of the data, a shallow copy (view) of the crystal map is obtained. This means that whatever changes made to `cm_high_dp` also change `cm`. When we want a deep copy, we use the `CrystalMap.deepcopy()` method"
   ]
  },
  {
   "cell_type": "code",
   "execution_count": null,
   "metadata": {},
   "outputs": [],
   "source": [
    "cm_nobody_owns_me = cm[cm.dp > dp_mean].deepcopy()"
   ]
  },
  {
   "cell_type": "markdown",
   "metadata": {},
   "source": [
    "We can chain the criteria"
   ]
  },
  {
   "cell_type": "code",
   "execution_count": null,
   "metadata": {},
   "outputs": [],
   "source": [
    "cm[(cm.dp > 0.81) & (cm.phase_id == 1)]"
   ]
  },
  {
   "cell_type": "markdown",
   "metadata": {},
   "source": [
    "# <a id='plot-maps'></a> 6. Plot maps\n",
    "\n",
    "All map plotting is done via a so-called Matplotlib \"projection\" named \"plot_map\". To plot a phase map"
   ]
  },
  {
   "cell_type": "code",
   "execution_count": null,
   "metadata": {},
   "outputs": [],
   "source": [
    "fig = plt.figure()\n",
    "ax = fig.add_subplot(projection=\"plot_map\")\n",
    "im = ax.plot_map(cm)"
   ]
  },
  {
   "cell_type": "markdown",
   "metadata": {},
   "source": [
    "Hover over figure points to display the (x,y) position and orientations in that point!\n",
    "\n",
    "Note that `plot_map()` wraps `matplotlib.axes.Axes.imshow`. All key word arguments in `plot_map()` are passed to `imshow()`, so be sure to check [its documentation]((https://matplotlib.org/api/_as_gen/matplotlib.axes.Axes.imshow.html?highlight=imshow#matplotlib.axes.Axes.imshow)) out for any additional arguments.\n",
    "\n",
    "We can add any overlay, from any property with a value in each map point, to the map"
   ]
  },
  {
   "cell_type": "code",
   "execution_count": null,
   "metadata": {},
   "outputs": [],
   "source": [
    "ax.add_overlay(cm, cm.dp)"
   ]
  },
  {
   "cell_type": "markdown",
   "metadata": {},
   "source": [
    "To save our phase map with the scalebar and legend, but without white padding"
   ]
  },
  {
   "cell_type": "code",
   "execution_count": null,
   "metadata": {},
   "outputs": [],
   "source": [
    "ax.remove_padding()\n",
    "fig.savefig(\n",
    "    datadir + 'phase_map.png',\n",
    "    bbox_inches=\"tight\",\n",
    "    pad_inches=0,\n",
    ")"
   ]
  },
  {
   "cell_type": "markdown",
   "metadata": {},
   "source": [
    "To save phase map without scalebar, legend and white padding, and one image pixel per map point"
   ]
  },
  {
   "cell_type": "code",
   "execution_count": null,
   "metadata": {},
   "outputs": [],
   "source": [
    "plt.imsave(\n",
    "    datadir + 'phase_no_fluff.png',\n",
    "    arr=im.get_array()  # 2D NumPy array, possibly with an RGB tuple in each element\n",
    ")"
   ]
  },
  {
   "cell_type": "markdown",
   "metadata": {},
   "source": [
    "We can plot any property with a value in each map point"
   ]
  },
  {
   "cell_type": "code",
   "execution_count": null,
   "metadata": {},
   "outputs": [],
   "source": [
    "fig = plt.figure()\n",
    "ax = fig.add_subplot(projection=\"plot_map\")\n",
    "im = ax.plot_map(cm, cm.dp, cmap=\"inferno\")"
   ]
  },
  {
   "cell_type": "markdown",
   "metadata": {},
   "source": [
    "And change the colormap later if we want to"
   ]
  },
  {
   "cell_type": "code",
   "execution_count": null,
   "metadata": {},
   "outputs": [],
   "source": [
    "im.set_cmap(\"viridis\")"
   ]
  },
  {
   "cell_type": "markdown",
   "metadata": {},
   "source": [
    "And add a colorbar if we want"
   ]
  },
  {
   "cell_type": "code",
   "execution_count": null,
   "metadata": {},
   "outputs": [],
   "source": [
    "cbar = ax.add_colorbar(label=\"Dottproduct\")"
   ]
  },
  {
   "cell_type": "markdown",
   "metadata": {},
   "source": [
    "Which we can update if we mispelled the label or want other adjustements"
   ]
  },
  {
   "cell_type": "code",
   "execution_count": null,
   "metadata": {},
   "outputs": [],
   "source": [
    "cbar.ax.set_ylabel(\"Dot product\", rotation=270);"
   ]
  },
  {
   "cell_type": "markdown",
   "metadata": {},
   "source": [
    "We can also plot orientation related values, like axis and angles etc., and restrict the color bar maximum"
   ]
  },
  {
   "cell_type": "code",
   "execution_count": null,
   "metadata": {},
   "outputs": [],
   "source": [
    "# Get rotation angles in degrees\n",
    "angles = cm.rotations.angle.data * 180 / np.pi\n",
    "\n",
    "fig = plt.figure()\n",
    "ax = fig.add_subplot(projection=\"plot_map\")\n",
    "im = ax.plot_map(cm, angles, vmax=angles.max() - 10)\n",
    "\n",
    "ax.add_overlay(cm, cm.iq)\n",
    "\n",
    "ax.add_colorbar(label=\"Rotation angle\");"
   ]
  },
  {
   "cell_type": "markdown",
   "metadata": {},
   "source": [
    "To plot only one phase, while passing custom:\n",
    "* scalebar properties (https://matplotlib.org/mpl_toolkits/axes_grid/api/anchored_artists_api.html#mpl_toolkits.axes_grid1.anchored_artists.AnchoredSizeBar)\n",
    "* legend properties (https://matplotlib.org/3.3.0/api/_as_gen/matplotlib.pyplot.legend.html)"
   ]
  },
  {
   "cell_type": "code",
   "execution_count": null,
   "metadata": {},
   "outputs": [],
   "source": [
    "fig = plt.figure()\n",
    "ax = fig.add_subplot(projection=\"plot_map\")\n",
    "im = ax.plot_map(\n",
    "    cm[\"austenite\"],\n",
    "    scalebar=True,  # False for removed\n",
    "    scalebar_properties={\n",
    "        \"loc\": 4,  # 1: upper right, 2: upper left, etc. counter-clockwise\n",
    "        \"frameon\": False,\n",
    "        \"sep\": 6,  # Vertical spacing between bar and text\n",
    "        \"size_vertical\": 0.2,  # Bar height\n",
    "    },\n",
    "    legend_properties={\n",
    "        \"framealpha\": 1,  # 0: fully transparent, 1: opaque\n",
    "        \"handlelength\": 1.5,  # Colored square width\n",
    "        \"handletextpad\": 0.1,  # Horizontal space between square and text\n",
    "        \"borderpad\": 0.1,\n",
    "    },\n",
    ")"
   ]
  },
  {
   "cell_type": "markdown",
   "metadata": {},
   "source": [
    "Plot only a rectangle of the map"
   ]
  },
  {
   "cell_type": "code",
   "execution_count": null,
   "metadata": {},
   "outputs": [],
   "source": [
    "cm2"
   ]
  },
  {
   "cell_type": "code",
   "execution_count": null,
   "metadata": {},
   "outputs": [],
   "source": [
    "cm2 = cm[20:50, 40:90]\n",
    "\n",
    "fig = plt.figure()\n",
    "ax = fig.add_subplot(projection=\"plot_map\")\n",
    "ax.plot_map(cm2)\n",
    "ax.add_overlay(cm2, cm2.dp)"
   ]
  },
  {
   "cell_type": "markdown",
   "metadata": {},
   "source": [
    "Plot only parts of a map based on chained conditionals, like belonging to one phase or having a property value above a threshold"
   ]
  },
  {
   "cell_type": "code",
   "execution_count": null,
   "metadata": {},
   "outputs": [],
   "source": [
    "# Conditional slicing\n",
    "cm2 = cm[cm.dp > 0.81]\n",
    "\n",
    "fig = plt.figure()\n",
    "ax = fig.add_subplot(projection=\"plot_map\")\n",
    "ax.plot_map(cm2, cm2.iq, cmap=\"gray\")\n",
    "ax.add_colorbar(\"Image quality\")\n",
    "\n",
    "# Chained conditional slicing\n",
    "cm2 = cm[(cm.dp > 0.81) & (cm.phase_id == 1)]\n",
    "\n",
    "fig = plt.figure()\n",
    "ax = fig.add_subplot(projection=\"plot_map\")\n",
    "ax.plot_map(cm2, cm2.dp, cmap=\"cividis\")\n",
    "ax.add_colorbar(\"Dot product\");"
   ]
  },
  {
   "cell_type": "markdown",
   "metadata": {},
   "source": [
    "Plot histogram of a property per phase"
   ]
  },
  {
   "cell_type": "code",
   "execution_count": null,
   "metadata": {},
   "outputs": [],
   "source": [
    "# Property of interest\n",
    "this_prop = 'dp'\n",
    "\n",
    "# Plot phase map again to see color changes\n",
    "fig = plt.figure()\n",
    "ax = fig.add_subplot(projection=\"plot_map\")\n",
    "ax.plot_map(cm)\n",
    "\n",
    "# Add overlay, passing str (can also pass numpy.ndarray)\n",
    "ax.add_overlay(cm, this_prop)\n",
    "\n",
    "# Remove figure padding\n",
    "ax.remove_padding()\n",
    "\n",
    "# Declare lists for plotting\n",
    "data = []\n",
    "labels = []\n",
    "colors = []\n",
    "\n",
    "# Get property values, name and color per phase\n",
    "for _, p in cm.phases_in_data:\n",
    "    labels.append(p.name)\n",
    "    colors.append(p.color)\n",
    "\n",
    "    # Accessing the property dictionary directly\n",
    "    data.append(cm[p.name].prop[this_prop])\n",
    "    # or indirectly\n",
    "    #data.append(cm[p.name].dp)\n",
    "\n",
    "# Nice bar plot with property histogram per phase\n",
    "fig, ax = plt.subplots()\n",
    "ax.hist(\n",
    "    data,\n",
    "    bins=20,\n",
    "    histtype='bar',\n",
    "    density=True,\n",
    "    label=labels,\n",
    "    color=colors\n",
    ")\n",
    "ax.set_xlabel(this_prop)\n",
    "ax.set_ylabel(\"Frequency\")\n",
    "ax.legend();"
   ]
  },
  {
   "cell_type": "markdown",
   "metadata": {},
   "source": [
    "Add a new property to the map, modify it, and plot it"
   ]
  },
  {
   "cell_type": "code",
   "execution_count": null,
   "metadata": {},
   "outputs": [],
   "source": [
    "cm.prop[\"grain_boundary\"] = 0"
   ]
  },
  {
   "cell_type": "code",
   "execution_count": null,
   "metadata": {},
   "outputs": [],
   "source": [
    "cm[cm.dp < 0.81].grain_boundary = 1"
   ]
  },
  {
   "cell_type": "code",
   "execution_count": null,
   "metadata": {},
   "outputs": [],
   "source": [
    "fig = plt.figure()\n",
    "ax = fig.add_subplot(projection=\"plot_map\")\n",
    "im = ax.plot_map(cm, cm.grain_boundary, cmap=\"gray\")"
   ]
  }
 ],
 "metadata": {
  "kernelspec": {
   "display_name": "Python 3",
   "language": "python",
   "name": "python3"
  },
  "language_info": {
   "codemirror_mode": {
    "name": "ipython",
    "version": 3
   },
   "file_extension": ".py",
   "mimetype": "text/x-python",
   "name": "python",
   "nbconvert_exporter": "python",
   "pygments_lexer": "ipython3",
   "version": "3.8.5"
  }
 },
 "nbformat": 4,
 "nbformat_minor": 4
}
